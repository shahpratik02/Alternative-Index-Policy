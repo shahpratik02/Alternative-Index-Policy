{
 "cells": [
  {
   "cell_type": "code",
   "execution_count": 19,
   "metadata": {},
   "outputs": [],
   "source": [
    "import numpy as np\n",
    "from scipy.optimize import linprog"
   ]
  },
  {
   "cell_type": "code",
   "execution_count": 20,
   "metadata": {},
   "outputs": [],
   "source": [
    "A=np.array([[0.005-1,0.793,0.202,-1,0.4],[0.718-1,0.254,0.028,-1,-0.60],[0.027,0.558-1,0.415,-1,0.40],[0.347,0.097-1,0.556,-1,-0.60],[0.736,0.249,0.015-1,-1,0.40],[0.015,.956,0.029-1,-1,-0.60]])"
   ]
  },
  {
   "cell_type": "code",
   "execution_count": 21,
   "metadata": {},
   "outputs": [
    {
     "data": {
      "text/plain": [
       "array([ 0.   , -0.699,  0.   , -0.362,  0.   , -0.715])"
      ]
     },
     "execution_count": 21,
     "metadata": {},
     "output_type": "execute_result"
    }
   ],
   "source": [
    "b=np.array([0,-0.699,0,-0.362,0,-0.715])\n",
    "b"
   ]
  },
  {
   "cell_type": "code",
   "execution_count": 22,
   "metadata": {},
   "outputs": [],
   "source": [
    "c=np.array([0,0,0,1,0])"
   ]
  },
  {
   "cell_type": "code",
   "execution_count": 23,
   "metadata": {},
   "outputs": [],
   "source": [
    "res = linprog(c, A_ub=A, b_ub=b,bounds=(-10,10))\n"
   ]
  },
  {
   "cell_type": "code",
   "execution_count": 24,
   "metadata": {},
   "outputs": [
    {
     "name": "stdout",
     "output_type": "stream",
     "text": [
      "Optimal value: 0.28 \n",
      "x values: [ -9.92341645 -10.          -9.9612159    0.28229365   0.66032624] \n",
      "Number of iterations performed: 6 \n",
      "Status: Optimization terminated successfully. (HiGHS Status 7: Optimal)\n"
     ]
    }
   ],
   "source": [
    "print('Optimal value:', round(res.fun, ndigits=2),\n",
    "\t      '\\nx values:', res.x,\n",
    "\t      '\\nNumber of iterations performed:', res.nit,\n",
    "\t      '\\nStatus:', res.message)"
   ]
  }
 ],
 "metadata": {
  "kernelspec": {
   "display_name": "Python 3",
   "language": "python",
   "name": "python3"
  },
  "language_info": {
   "codemirror_mode": {
    "name": "ipython",
    "version": 3
   },
   "file_extension": ".py",
   "mimetype": "text/x-python",
   "name": "python",
   "nbconvert_exporter": "python",
   "pygments_lexer": "ipython3",
   "version": "3.8.17"
  }
 },
 "nbformat": 4,
 "nbformat_minor": 2
}
