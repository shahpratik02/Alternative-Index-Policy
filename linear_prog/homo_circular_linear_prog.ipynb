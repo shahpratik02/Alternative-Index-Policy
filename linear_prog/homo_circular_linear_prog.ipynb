{
 "cells": [
  {
   "cell_type": "code",
   "execution_count": 1,
   "metadata": {},
   "outputs": [],
   "source": [
    "import numpy as np\n",
    "from scipy.optimize import linprog"
   ]
  },
  {
   "cell_type": "code",
   "execution_count": 2,
   "metadata": {},
   "outputs": [],
   "source": [
    "A=np.array([[-0.5,0,0,0.5,-1,0.5],[-0.5,0.5,0,0,-1,-0.5],[0.5,-0.5,0,0,-1,0.5],[0,-0.5,0.5,0,-1,-0.5],[0,0.5,-0.5,0,-1,0.5],[0,0,-0.5,0.5,-1,-0.5],[0,0,0.5,-0.5,-1,0.5],[0.5,0,0,-0.5,-1,-0.5]])"
   ]
  },
  {
   "cell_type": "code",
   "execution_count": 3,
   "metadata": {},
   "outputs": [
    {
     "data": {
      "text/plain": [
       "array([ 1,  1,  0,  0,  0,  0, -1, -1])"
      ]
     },
     "execution_count": 3,
     "metadata": {},
     "output_type": "execute_result"
    }
   ],
   "source": [
    "b=np.array([1,1,0,0,0,0,-1,-1])\n",
    "b"
   ]
  },
  {
   "cell_type": "code",
   "execution_count": 4,
   "metadata": {},
   "outputs": [],
   "source": [
    "c=np.array([0,0,0,0,1,0])"
   ]
  },
  {
   "cell_type": "code",
   "execution_count": 5,
   "metadata": {},
   "outputs": [],
   "source": [
    "res = linprog(c, A_ub=A, b_ub=b,bounds=(-3,None))\n"
   ]
  },
  {
   "cell_type": "code",
   "execution_count": 6,
   "metadata": {},
   "outputs": [
    {
     "name": "stdout",
     "output_type": "stream",
     "text": [
      "Optimal value: 0.5 \n",
      "x values: [-3.  -3.  -3.  -2.   0.5 -0. ] \n",
      "Number of iterations performed: 7 \n",
      "Status: Optimization terminated successfully. (HiGHS Status 7: Optimal)\n"
     ]
    }
   ],
   "source": [
    "print('Optimal value:', round(res.fun, ndigits=2),\n",
    "\t      '\\nx values:', res.x,\n",
    "\t      '\\nNumber of iterations performed:', res.nit,\n",
    "\t      '\\nStatus:', res.message)"
   ]
  },
  {
   "cell_type": "code",
   "execution_count": null,
   "metadata": {},
   "outputs": [],
   "source": []
  }
 ],
 "metadata": {
  "kernelspec": {
   "display_name": "Python 3",
   "language": "python",
   "name": "python3"
  },
  "language_info": {
   "codemirror_mode": {
    "name": "ipython",
    "version": 3
   },
   "file_extension": ".py",
   "mimetype": "text/x-python",
   "name": "python",
   "nbconvert_exporter": "python",
   "pygments_lexer": "ipython3",
   "version": "3.8.17"
  }
 },
 "nbformat": 4,
 "nbformat_minor": 2
}
