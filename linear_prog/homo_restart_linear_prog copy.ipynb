{
 "cells": [
  {
   "cell_type": "code",
   "execution_count": 6,
   "metadata": {},
   "outputs": [],
   "source": [
    "import numpy as np\n",
    "from scipy.optimize import linprog"
   ]
  },
  {
   "cell_type": "code",
   "execution_count": 7,
   "metadata": {},
   "outputs": [],
   "source": [
    "A=np.array([[-0.9,0.9,0,0,0,-1],[0,0,0,0,0,-1],[0.1,-1,0.9,0,0,-1],[1,-1,0,0,0,-1],[0.1,0,-1,0.9,0,-1],[1,0,-1,0,0,-1],[0.1,0,0,-1,0.9,-1],[1,0,0,-1,0,-1],[0.1,0,0,0,-0.1,-1],[1,0,0,0,-1,-1]])"
   ]
  },
  {
   "cell_type": "code",
   "execution_count": 8,
   "metadata": {},
   "outputs": [
    {
     "data": {
      "text/plain": [
       "array([-1.16  ,  0.04  , -1.06  ,  0.04  , -0.97  ,  0.04  , -0.889 ,\n",
       "        0.04  , -0.8161,  0.04  ])"
      ]
     },
     "execution_count": 8,
     "metadata": {},
     "output_type": "execute_result"
    }
   ],
   "source": [
    "b=np.array([-1-0.16,0+0.04,-0.9-0.16,0+0.04,-0.9**2-0.16,0+0.04,-0.9**3-0.16,0+0.04,-0.9**4-0.16,0+0.04])\n",
    "b"
   ]
  },
  {
   "cell_type": "code",
   "execution_count": 9,
   "metadata": {},
   "outputs": [],
   "source": [
    "c=np.array([0,0,0,0,0,1])"
   ]
  },
  {
   "cell_type": "code",
   "execution_count": 10,
   "metadata": {},
   "outputs": [],
   "source": [
    "res = linprog(c, A_ub=A, b_ub=b)\n"
   ]
  },
  {
   "cell_type": "code",
   "execution_count": 11,
   "metadata": {},
   "outputs": [
    {
     "name": "stdout",
     "output_type": "stream",
     "text": [
      "Optimal value: 0.89 \n",
      "x values: [0.7412131  0.441459   0.21951    0.0729     0.         0.89022131] \n",
      "Number of iterations performed: 7 \n",
      "Status: Optimization terminated successfully. (HiGHS Status 7: Optimal)\n"
     ]
    }
   ],
   "source": [
    "print('Optimal value:', round(res.fun, ndigits=2),\n",
    "\t      '\\nx values:', res.x,\n",
    "\t      '\\nNumber of iterations performed:', res.nit,\n",
    "\t      '\\nStatus:', res.message)"
   ]
  },
  {
   "cell_type": "code",
   "execution_count": null,
   "metadata": {},
   "outputs": [],
   "source": []
  }
 ],
 "metadata": {
  "kernelspec": {
   "display_name": "Python 3",
   "language": "python",
   "name": "python3"
  },
  "language_info": {
   "codemirror_mode": {
    "name": "ipython",
    "version": 3
   },
   "file_extension": ".py",
   "mimetype": "text/x-python",
   "name": "python",
   "nbconvert_exporter": "python",
   "pygments_lexer": "ipython3",
   "version": "3.8.17"
  }
 },
 "nbformat": 4,
 "nbformat_minor": 2
}
