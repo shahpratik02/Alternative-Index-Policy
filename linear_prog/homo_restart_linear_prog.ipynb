{
 "cells": [
  {
   "cell_type": "code",
   "execution_count": 1,
   "metadata": {},
   "outputs": [],
   "source": [
    "import numpy as np\n",
    "from scipy.optimize import linprog"
   ]
  },
  {
   "cell_type": "code",
   "execution_count": 2,
   "metadata": {},
   "outputs": [],
   "source": [
    "A=np.array([[-0.9,0.9,0,0,0,-1,0.2],[0,0,0,0,0,-1,-0.8],[0.1,-1,0.9,0,0,-1,0.2],[1,-1,0,0,0,-1,-0.8],[0.1,0,-1,0.9,0,-1,0.2],[1,0,-1,0,0,-1,-0.8],[0.1,0,0,-1,0.9,-1,0.2],[1,0,0,-1,0,-1,-0.8],[0.1,0,0,0,-0.1,-1,0.2],[1,0,0,0,-1,-1,-0.8]])"
   ]
  },
  {
   "cell_type": "code",
   "execution_count": 3,
   "metadata": {},
   "outputs": [],
   "source": [
    "# b=np.array([0,-1,0,-0.9,0,-0.9**2,0,-0.9**3,0,-0.9**4])\n",
    "# b"
   ]
  },
  {
   "cell_type": "code",
   "execution_count": 4,
   "metadata": {},
   "outputs": [
    {
     "data": {
      "text/plain": [
       "array([-0.9    ,  0.     , -0.81   ,  0.     , -0.729  ,  0.     ,\n",
       "       -0.6561 ,  0.     , -0.59049,  0.     ])"
      ]
     },
     "execution_count": 4,
     "metadata": {},
     "output_type": "execute_result"
    }
   ],
   "source": [
    "b=np.array([-0.9,0,-0.9**2,0,-0.9**3,0,-0.9**4,0,-0.9**5,0])\n",
    "b"
   ]
  },
  {
   "cell_type": "markdown",
   "metadata": {},
   "source": []
  },
  {
   "cell_type": "code",
   "execution_count": 5,
   "metadata": {},
   "outputs": [],
   "source": [
    "c=np.array([0,0,0,0,0,1,0])"
   ]
  },
  {
   "cell_type": "code",
   "execution_count": 6,
   "metadata": {},
   "outputs": [],
   "source": [
    "res = linprog(c, A_ub=A, b_ub=b,bounds=(-11,10))\n"
   ]
  },
  {
   "cell_type": "code",
   "execution_count": 7,
   "metadata": {},
   "outputs": [
    {
     "name": "stdout",
     "output_type": "stream",
     "text": [
      "Optimal value: 0.65 \n",
      "x values: [-10.558541   -10.78049    -10.9271     -11.         -11.\n",
      "   0.64848852  -0.2587869 ] \n",
      "Number of iterations performed: 9 \n",
      "Status: Optimization terminated successfully. (HiGHS Status 7: Optimal)\n"
     ]
    }
   ],
   "source": [
    "print('Optimal value:', round(res.fun, ndigits=2),\n",
    "\t      '\\nx values:', res.x,\n",
    "\t      '\\nNumber of iterations performed:', res.nit,\n",
    "\t      '\\nStatus:', res.message)"
   ]
  },
  {
   "cell_type": "code",
   "execution_count": null,
   "metadata": {},
   "outputs": [],
   "source": []
  }
 ],
 "metadata": {
  "kernelspec": {
   "display_name": "Python 3",
   "language": "python",
   "name": "python3"
  },
  "language_info": {
   "codemirror_mode": {
    "name": "ipython",
    "version": 3
   },
   "file_extension": ".py",
   "mimetype": "text/x-python",
   "name": "python",
   "nbconvert_exporter": "python",
   "pygments_lexer": "ipython3",
   "version": "3.8.17"
  }
 },
 "nbformat": 4,
 "nbformat_minor": 2
}
