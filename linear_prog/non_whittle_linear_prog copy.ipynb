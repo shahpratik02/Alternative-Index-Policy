{
 "cells": [
  {
   "cell_type": "code",
   "execution_count": 1,
   "metadata": {},
   "outputs": [],
   "source": [
    "import numpy as np\n",
    "from scipy.optimize import linprog"
   ]
  },
  {
   "cell_type": "code",
   "execution_count": 2,
   "metadata": {},
   "outputs": [
    {
     "data": {
      "text/plain": [
       "array([[-0.995,  0.793,  0.202, -1.   ],\n",
       "       [-0.282,  0.254,  0.028, -1.   ],\n",
       "       [ 0.027, -0.442,  0.415, -1.   ],\n",
       "       [ 0.347, -0.903,  0.556, -1.   ],\n",
       "       [ 0.736,  0.249, -0.985, -1.   ],\n",
       "       [ 0.015,  0.956, -0.971, -1.   ]])"
      ]
     },
     "execution_count": 2,
     "metadata": {},
     "output_type": "execute_result"
    }
   ],
   "source": [
    "\n",
    "A=np.array([[0.005-1,0.793,0.202,-1],[0.718-1,0.254,0.028,-1],[0.027,0.558-1,0.415,-1],[0.347,0.097-1,0.556,-1],[0.736,0.249,0.015-1,-1],[0.015,.956,0.029-1,-1]])\n",
    "A"
   ]
  },
  {
   "cell_type": "code",
   "execution_count": 3,
   "metadata": {},
   "outputs": [
    {
     "data": {
      "text/plain": [
       "array([-0.35 , -0.549, -0.35 , -0.212, -0.35 , -0.565])"
      ]
     },
     "execution_count": 3,
     "metadata": {},
     "output_type": "execute_result"
    }
   ],
   "source": [
    "b=np.array([-0.35,-0.699+0.15,-0.35,-0.362+0.15,-0.35,-0.715+0.15])\n",
    "b"
   ]
  },
  {
   "cell_type": "code",
   "execution_count": 4,
   "metadata": {},
   "outputs": [],
   "source": [
    "c=np.array([0,0,0,1])"
   ]
  },
  {
   "cell_type": "code",
   "execution_count": 5,
   "metadata": {},
   "outputs": [],
   "source": [
    "res = linprog(c, A_ub=A, b_ub=b)\n"
   ]
  },
  {
   "cell_type": "code",
   "execution_count": 6,
   "metadata": {},
   "outputs": [
    {
     "name": "stdout",
     "output_type": "stream",
     "text": [
      "Optimal value: 0.45 \n",
      "x values: [0.38006318 0.         0.18549291 0.44701598] \n",
      "Number of iterations performed: 4 \n",
      "Status: Optimization terminated successfully. (HiGHS Status 7: Optimal)\n"
     ]
    }
   ],
   "source": [
    "print('Optimal value:', round(res.fun, ndigits=2),\n",
    "\t      '\\nx values:', res.x,\n",
    "\t      '\\nNumber of iterations performed:', res.nit,\n",
    "\t      '\\nStatus:', res.message)"
   ]
  }
 ],
 "metadata": {
  "kernelspec": {
   "display_name": "Python 3",
   "language": "python",
   "name": "python3"
  },
  "language_info": {
   "codemirror_mode": {
    "name": "ipython",
    "version": 3
   },
   "file_extension": ".py",
   "mimetype": "text/x-python",
   "name": "python",
   "nbconvert_exporter": "python",
   "pygments_lexer": "ipython3",
   "version": "3.8.17"
  }
 },
 "nbformat": 4,
 "nbformat_minor": 2
}
