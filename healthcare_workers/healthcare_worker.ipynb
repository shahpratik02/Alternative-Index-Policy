{
 "cells": [
  {
   "cell_type": "code",
   "execution_count": 17,
   "metadata": {},
   "outputs": [],
   "source": [
    "import numpy as np\n",
    "import matplotlib.pyplot as plt\n",
    "import time\n",
    "import random\n",
    "from collections import deque\n",
    "from tqdm import tqdm  \n",
    "import pandas as pd\n",
    "import copy\n",
    "from IPython.display import clear_output\n"
   ]
  },
  {
   "cell_type": "code",
   "execution_count": 18,
   "metadata": {},
   "outputs": [
    {
     "data": {
      "text/plain": [
       "array([[0., 0., 1.],\n",
       "       [0., 0., 1.],\n",
       "       [0., 0., 1.]])"
      ]
     },
     "execution_count": 18,
     "metadata": {},
     "output_type": "execute_result"
    }
   ],
   "source": [
    "#ss=0,se=1,sd=2\n",
    "P_0_matrix=np.array([[0.0,0.0,1.0],\n",
    "                   [0.0,0.0,1.0],\n",
    "                   [0.0,0.0,1.0]])\n",
    "\n",
    "P_0_matrix\n"
   ]
  },
  {
   "cell_type": "code",
   "execution_count": 19,
   "metadata": {},
   "outputs": [],
   "source": [
    "#x=0 --> reliable, x=1 --> greedy\n",
    "def P_1_matrix(x):\n",
    "    if x==0:\n",
    "        P_1_matrix=np.array([[0.0,1.0,0.0],\n",
    "                        [0.0,1.0,0.0],\n",
    "                        [0.0,0.0,1.0]])\n",
    "    else:\n",
    "        P_1_matrix=np.array([[0.0,1.0,0.0],\n",
    "                        [0.0,0.0,1.0],\n",
    "                        [0.0,0.0,1.0]])\n",
    "\n",
    "    return P_1_matrix"
   ]
  },
  {
   "cell_type": "code",
   "execution_count": 20,
   "metadata": {},
   "outputs": [
    {
     "data": {
      "text/plain": [
       "array([[0., 1., 0.],\n",
       "       [0., 1., 0.],\n",
       "       [0., 0., 1.]])"
      ]
     },
     "execution_count": 20,
     "metadata": {},
     "output_type": "execute_result"
    }
   ],
   "source": [
    "P_1_matrix(0)"
   ]
  },
  {
   "cell_type": "code",
   "execution_count": 21,
   "metadata": {},
   "outputs": [],
   "source": [
    "#epsilon=0.1\n",
    "def reward_matrix(x):\n",
    "    if x==0:\n",
    "        reward_matrix=[[0,0],[0.9,0.9],[0,0]]\n",
    "    else:\n",
    "        reward_matrix=[[0,0],[1.0,1.0],[0,0]]\n",
    "    return reward_matrix"
   ]
  },
  {
   "cell_type": "code",
   "execution_count": 22,
   "metadata": {},
   "outputs": [],
   "source": [
    "action_space=[0,1]\n",
    "state_space=[0,1,2]\n",
    "N=20\n",
    "M=10\n",
    "epsilon=0.1\n",
    "subsidy=0\n",
    "arm_indexes=[i for i in range(N)]\n",
    "gamma=0.99999"
   ]
  },
  {
   "cell_type": "code",
   "execution_count": 23,
   "metadata": {},
   "outputs": [],
   "source": [
    "def step(state,state_space,action,P_0_matrix,P_1_matrix,reward_matrix):\n",
    "  new_state=state\n",
    "  if(action==1):\n",
    "    new_state=np.random.choice(state_space,replace=True,p=P_1_matrix[state])\n",
    "    reward=reward_matrix[state][1]\n",
    "  else:\n",
    "    new_state=np.random.choice(state_space,replace=True,p=P_0_matrix[state])\n",
    "    reward=reward_matrix[state][0]\n",
    "  return [new_state,reward]"
   ]
  },
  {
   "cell_type": "code",
   "execution_count": 24,
   "metadata": {},
   "outputs": [],
   "source": [
    "def act(Q_values,epsilon,state,arm_type):\n",
    "    decision=np.random.binomial(n=1,p=epsilon,size=1)\n",
    "    if decision==1:\n",
    "        action=random.choice([0,1])\n",
    "    else:\n",
    "        action=np.argmax(Q_values[arm_type][state])\n",
    "    return action"
   ]
  },
  {
   "cell_type": "code",
   "execution_count": 25,
   "metadata": {},
   "outputs": [],
   "source": [
    "def Q_value_update(Q_values,state,next_state,action,reward,arm_type,subsidy,alpha):\n",
    "    arm_index=arm_type\n",
    "    if action==1:\n",
    "        Q_values[arm_index][state][action]=(1-alpha)*(Q_values[arm_index][state][action])+alpha*(reward+max(Q_values[arm_index][next_state])-(np.array(Q_values[arm_index]).sum())/6)\n",
    "    else:\n",
    "        Q_values[arm_index][state][action]=(1-alpha)*(Q_values[arm_index][state][action])+alpha*(reward+subsidy+max(Q_values[arm_index][next_state])-(np.array(Q_values[arm_index]).sum())/6)"
   ]
  },
  {
   "cell_type": "code",
   "execution_count": 26,
   "metadata": {},
   "outputs": [
    {
     "data": {
      "text/plain": [
       "[[[0, 0], [0.9, 0.9], [0, 0]], [[0, 0], [1.0, 1.0], [0, 0]]]"
      ]
     },
     "execution_count": 26,
     "metadata": {},
     "output_type": "execute_result"
    }
   ],
   "source": [
    "Q_values=[]\n",
    "for i in range(0,2):\n",
    "  Q_values.append(reward_matrix(i))\n",
    "  \n",
    "Q_values"
   ]
  },
  {
   "cell_type": "code",
   "execution_count": 27,
   "metadata": {},
   "outputs": [],
   "source": [
    "rewards=[]\n",
    "subsidies=[]\n",
    "action_sums=[]\n",
    "betas=[]\n",
    "alphas=[]\n",
    "epsilon=1\n",
    "epsilons=[]\n",
    "beta=0"
   ]
  },
  {
   "cell_type": "code",
   "execution_count": 28,
   "metadata": {},
   "outputs": [],
   "source": [
    "alternative_indexes=[0 for _ in range(N)]\n",
    "current_state=[0 for _ in range(N)]"
   ]
  },
  {
   "cell_type": "code",
   "execution_count": 29,
   "metadata": {},
   "outputs": [],
   "source": [
    "for i in range(1,500001):\n",
    "  # top_M_indices=act(alternative_indexes,N,M,epsilon)\n",
    "  action_sum=0\n",
    "  reward_sum=0\n",
    "  action_flag=0\n",
    "  alpha=1/(1+(i/5000))\n",
    "  if i%50==0:\n",
    "    beta=1/(1+(i*np.log(i)/5000))\n",
    "\n",
    "  for index in arm_indexes:\n",
    "      if index<=N/2:\n",
    "          action=act(Q_values,epsilon,current_state[index],0)\n",
    "          action_sum+=action\n",
    "          x=step(current_state[index],state_space,action,P_0_matrix,P_1_matrix(0),reward_matrix(0))\n",
    "          new_state=x[0]\n",
    "          reward=x[1]\n",
    "          Q_value_update(Q_values,current_state[index],new_state,action,reward,0,subsidy,alpha)\n",
    "          current_state[index]=new_state\n",
    "          reward_sum+=reward\n",
    "      \n",
    "      else:\n",
    "          action=act(Q_values,epsilon,current_state[index],1)\n",
    "          action_sum+=action\n",
    "          x=step(current_state[index],state_space,action,P_0_matrix,P_1_matrix(1),reward_matrix(1))\n",
    "          new_state=x[0]\n",
    "          reward=x[1]\n",
    "          Q_value_update(Q_values,current_state[index],new_state,action,reward,1,subsidy,alpha)\n",
    "          current_state[index]=new_state\n",
    "          reward_sum+=reward\n",
    "         \n",
    "\n",
    "      #print(x)\n",
    "  # print(i)\n",
    "  #print(reward_sum)\n",
    "\n",
    "  subsidy+=beta*(action_sum-M)\n",
    "  subsidies.append(subsidy)\n",
    "  \n",
    "  epsilon=epsilon*gamma\n",
    "\n",
    "  # if epsilon<=0.01:\n",
    "  #   epsilon=0.01\n",
    "  rewards.append(reward_sum)\n",
    "  action_sums.append(action_sum)\n",
    "  betas.append(beta)\n",
    "  alphas.append(alpha)\n",
    "  clear_output(wait=True)\n",
    "  epsilons.append(epsilon)\n",
    "\n",
    "\n",
    "\n"
   ]
  },
  {
   "cell_type": "code",
   "execution_count": 71,
   "metadata": {},
   "outputs": [
    {
     "data": {
      "text/plain": [
       "0.006737778551546669"
      ]
     },
     "execution_count": 71,
     "metadata": {},
     "output_type": "execute_result"
    }
   ],
   "source": [
    "epsilon"
   ]
  },
  {
   "cell_type": "code",
   "execution_count": 31,
   "metadata": {},
   "outputs": [
    {
     "data": {
      "text/plain": [
       "Text(0.5, 1.0, 'Subsidy vs Steps for Health Worker Example')"
      ]
     },
     "execution_count": 31,
     "metadata": {},
     "output_type": "execute_result"
    },
    {
     "data": {
      "image/png": "[encoded data removed]",
      "text/plain": [
       "<Figure size 640x480 with 1 Axes>"
      ]
     },
     "metadata": {},
     "output_type": "display_data"
    }
   ],
   "source": [
    "plt.plot(subsidies)\n",
    "plt.xlabel('Steps')\n",
    "plt.ylabel('Subsidy')\n",
    "plt.title('Subsidy vs Steps for Health Worker Example')"
   ]
  },
  {
   "cell_type": "code",
   "execution_count": 32,
   "metadata": {},
   "outputs": [],
   "source": [
    "df=pd.DataFrame(rewards)\n"
   ]
  },
  {
   "cell_type": "code",
   "execution_count": 33,
   "metadata": {},
   "outputs": [
    {
     "data": {
      "text/plain": [
       "[<matplotlib.lines.Line2D at 0x161bddca0>]"
      ]
     },
     "execution_count": 33,
     "metadata": {},
     "output_type": "execute_result"
    },
    {
     "data": {
      "image/png": "[encoded data removed]",
      "text/plain": [
       "<Figure size 640x480 with 1 Axes>"
      ]
     },
     "metadata": {},
     "output_type": "display_data"
    }
   ],
   "source": [
    "plt.plot(epsilons)"
   ]
  },
  {
   "cell_type": "code",
   "execution_count": 34,
   "metadata": {},
   "outputs": [
    {
     "data": {
      "text/plain": [
       "Text(0.5, 1.0, ' Moving Average of reward for Health Worker Example ')"
      ]
     },
     "execution_count": 34,
     "metadata": {},
     "output_type": "execute_result"
    },
    {
     "data": {
      "image/png": "[encoded data removed]",
      "text/plain": [
       "<Figure size 640x480 with 1 Axes>"
      ]
     },
     "metadata": {},
     "output_type": "display_data"
    }
   ],
   "source": [
    "plt.plot(df[0].rolling(10000,min_periods=1).mean())\n",
    "# plt.axhline(y = 14, color = 'r', linestyle = '-') \n",
    "plt.xlabel('Steps')\n",
    "plt.ylabel('Reward')\n",
    "plt.title(' Moving Average of reward for Health Worker Example ')\n"
   ]
  },
  {
   "cell_type": "code",
   "execution_count": null,
   "metadata": {},
   "outputs": [],
   "source": []
  },
  {
   "cell_type": "code",
   "execution_count": 35,
   "metadata": {},
   "outputs": [
    {
     "data": {
      "text/plain": [
       "Text(0.5, 1.0, ' Moving Average of number of arms activated for Health Worker Example ')"
      ]
     },
     "execution_count": 35,
     "metadata": {},
     "output_type": "execute_result"
    },
    {
     "data": {
      "image/png": "[encoded data removed]",
      "text/plain": [
       "<Figure size 640x480 with 1 Axes>"
      ]
     },
     "metadata": {},
     "output_type": "display_data"
    }
   ],
   "source": [
    "df['action_sums']=action_sums\n",
    "plt.plot(df['action_sums'].rolling(10000,min_periods=1).mean())\n",
    "plt.xlabel('Steps')\n",
    "plt.ylabel('Number of Arms activated')\n",
    "plt.title(' Moving Average of number of arms activated for Health Worker Example ')\n"
   ]
  },
  {
   "cell_type": "code",
   "execution_count": 61,
   "metadata": {},
   "outputs": [
    {
     "name": "stdout",
     "output_type": "stream",
     "text": [
      "[1, 1, 1, 1, 1, 1, 1, 1, 1, 1, 0, 0, 0, 0, 0, 0, 0, 0, 0, 0]\n"
     ]
    }
   ],
   "source": [
    "current_state_init=[1 for _ in range(int(N/2))]\n",
    "current_state_init.extend([0 for _ in range(int(N-int(N/2)))])\n",
    "# current_state_init.extend(current_state_init)\n",
    "print(current_state_init)\n"
   ]
  },
  {
   "cell_type": "code",
   "execution_count": 62,
   "metadata": {},
   "outputs": [],
   "source": [
    "reward_sums_alt_index=[]\n",
    "alternative_indexes=[0 for _ in range(N)]\n",
    "current_state=copy.deepcopy(current_state_init)\n",
    "for i in range(1,100001):\n",
    "  reward_sum_alt_index=0\n",
    "  for index in arm_indexes:\n",
    "    if index<N/2:\n",
    "        alternative_indexes[index]=Q_values[0][current_state[index]][1]-Q_values[0][current_state[index]][0]\n",
    "    else:\n",
    "        alternative_indexes[index]=Q_values[1][current_state[index]][1]-Q_values[1][current_state[index]][0]\n",
    "  indices_to_pull = sorted(range(len(alternative_indexes)), key = lambda j: alternative_indexes[j])[-M:]\n",
    "  # print(indices_to_pull)\n",
    "  for index in arm_indexes:\n",
    "    if index in indices_to_pull:\n",
    "      if index<N/2:\n",
    "        x=step(current_state[index],state_space,1,P_0_matrix,P_1_matrix(0),reward_matrix((0)))\n",
    "      else:\n",
    "        x=step(current_state[index],state_space,1,P_0_matrix,P_1_matrix(1),reward_matrix((1)))\n",
    "      new_state=x[0]\n",
    "      reward=x[1]\n",
    "      current_state[index]=new_state\n",
    "      reward_sum_alt_index+=reward\n",
    "    else:\n",
    "      if index<N/2:\n",
    "        x=step(current_state[index],state_space,0,P_0_matrix,P_1_matrix(0),reward_matrix((0)))\n",
    "      else:\n",
    "        x=step(current_state[index],state_space,0,P_0_matrix,P_1_matrix(1),reward_matrix((1)))\n",
    "      new_state=x[0]\n",
    "      reward=x[1]\n",
    "      current_state[index]=new_state\n",
    "      reward_sum_alt_index+=reward\n",
    "  reward_sums_alt_index.append(reward_sum_alt_index)"
   ]
  },
  {
   "cell_type": "code",
   "execution_count": 63,
   "metadata": {},
   "outputs": [
    {
     "data": {
      "text/plain": [
       "[1, 1, 1, 1, 1, 1, 1, 1, 1, 1, 2, 2, 2, 2, 2, 2, 2, 2, 2, 2]"
      ]
     },
     "execution_count": 63,
     "metadata": {},
     "output_type": "execute_result"
    }
   ],
   "source": [
    "current_state"
   ]
  },
  {
   "cell_type": "code",
   "execution_count": 64,
   "metadata": {},
   "outputs": [],
   "source": [
    "whittle_indexes=[[0.9,0.9,0],[1,0,0]]"
   ]
  },
  {
   "cell_type": "code",
   "execution_count": 65,
   "metadata": {},
   "outputs": [
    {
     "data": {
      "text/plain": [
       "1"
      ]
     },
     "execution_count": 65,
     "metadata": {},
     "output_type": "execute_result"
    }
   ],
   "source": [
    "whittle_indexes[1][0]"
   ]
  },
  {
   "cell_type": "code",
   "execution_count": 66,
   "metadata": {},
   "outputs": [],
   "source": [
    "reward_sums_whittle_index=[]\n",
    "whittle_index_arms=[0 for _ in range(N)]\n",
    "current_state=copy.deepcopy(current_state_init)\n",
    "for i in range(1,100001):\n",
    "  reward_sum_whittle_index=0\n",
    "  for index in arm_indexes:\n",
    "    if index<N/2:\n",
    "      whittle_index_arms[index]=whittle_indexes[0][current_state[index]]\n",
    "    else:\n",
    "      whittle_index_arms[index]=whittle_indexes[1][current_state[index]]\n",
    "  \n",
    "  indices_to_pull = sorted(range(len(whittle_index_arms)), key = lambda j: whittle_index_arms[j])[-M:]\n",
    "  # print(indices_to_pull)\n",
    "  for index in arm_indexes:\n",
    "    if index in indices_to_pull:\n",
    "      if index<N/2:\n",
    "        x=step(current_state[index],state_space,1,P_0_matrix,P_1_matrix(0),reward_matrix((0)))\n",
    "      else:\n",
    "        x=step(current_state[index],state_space,1,P_0_matrix,P_1_matrix(1),reward_matrix((1)))\n",
    "      new_state=x[0]\n",
    "      reward=x[1]\n",
    "      current_state[index]=new_state\n",
    "      reward_sum_whittle_index+=reward\n",
    "    else:\n",
    "      if index<N/2:\n",
    "        x=step(current_state[index],state_space,0,P_0_matrix,P_1_matrix(0),reward_matrix((0)))\n",
    "      else:\n",
    "        x=step(current_state[index],state_space,0,P_0_matrix,P_1_matrix(1),reward_matrix((1)))\n",
    "      new_state=x[0]\n",
    "      reward=x[1]\n",
    "      current_state[index]=new_state\n",
    "      reward_sum_whittle_index+=reward\n",
    "  reward_sums_whittle_index.append(reward_sum_whittle_index)"
   ]
  },
  {
   "cell_type": "code",
   "execution_count": 67,
   "metadata": {},
   "outputs": [
    {
     "data": {
      "text/plain": [
       "[2, 2, 2, 2, 2, 2, 2, 2, 2, 2, 2, 2, 2, 2, 2, 2, 2, 2, 2, 2]"
      ]
     },
     "execution_count": 67,
     "metadata": {},
     "output_type": "execute_result"
    }
   ],
   "source": [
    "current_state"
   ]
  },
  {
   "cell_type": "code",
   "execution_count": 68,
   "metadata": {},
   "outputs": [
    {
     "data": {
      "text/plain": [
       "[0, 0, 0, 0, 0, 0, 0, 0, 0, 0, 0, 0, 0, 0, 0, 0, 0, 0, 0, 0]"
      ]
     },
     "execution_count": 68,
     "metadata": {},
     "output_type": "execute_result"
    }
   ],
   "source": [
    "whittle_index_arms"
   ]
  },
  {
   "cell_type": "code",
   "execution_count": 69,
   "metadata": {},
   "outputs": [
    {
     "data": {
      "text/plain": [
       "[10, 11, 12, 13, 14, 15, 16, 17, 18, 19]"
      ]
     },
     "execution_count": 69,
     "metadata": {},
     "output_type": "execute_result"
    }
   ],
   "source": [
    "indices_to_pull"
   ]
  },
  {
   "cell_type": "code",
   "execution_count": 70,
   "metadata": {},
   "outputs": [
    {
     "data": {
      "text/plain": [
       "Text(0.5, 1.0, ' Moving Average of reward for Health Worker Example ')"
      ]
     },
     "execution_count": 70,
     "metadata": {},
     "output_type": "execute_result"
    },
    {
     "data": {
      "image/png": "[encoded data removed]",
      "text/plain": [
       "<Figure size 640x480 with 1 Axes>"
      ]
     },
     "metadata": {},
     "output_type": "display_data"
    }
   ],
   "source": [
    "df=pd.DataFrame()\n",
    "df['reward_whittle']=reward_sums_whittle_index\n",
    "df['reward_alternate']=reward_sums_alt_index\n",
    "\n",
    "plt.plot(df['reward_whittle'][:50000].rolling(1000,min_periods=1).mean(),label='Moving Average of rewards using whittle index')\n",
    "plt.plot(df['reward_alternate'][:50000].rolling(1000,min_periods=1).mean(),label='Moving Average of rewards using alternative index')\n",
    "plt.xlabel('Steps')\n",
    "plt.ylabel('Reward')\n",
    "plt.legend()\n",
    "plt.title(' Moving Average of reward for Health Worker Example ')"
   ]
  },
  {
   "cell_type": "code",
   "execution_count": 46,
   "metadata": {},
   "outputs": [
    {
     "data": {
      "text/plain": [
       "[-0.06304470086604519,\n",
       " -0.06304470086604519,\n",
       " -0.06304470086604519,\n",
       " -0.06304470086604519,\n",
       " -0.06304470086604519,\n",
       " 1.1698748335787077,\n",
       " 1.1698748335787077,\n",
       " 1.1698748335787077,\n",
       " 1.1698748335787077,\n",
       " 1.1698748335787077,\n",
       " -0.3126048099774736,\n",
       " -0.3126048099774736,\n",
       " -0.3126048099774736,\n",
       " -0.3126048099774736,\n",
       " -0.3126048099774736,\n",
       " -0.3126048099774736,\n",
       " -0.3126048099774736,\n",
       " -0.3126048099774736,\n",
       " -0.3126048099774736,\n",
       " -0.3126048099774736]"
      ]
     },
     "execution_count": 46,
     "metadata": {},
     "output_type": "execute_result"
    }
   ],
   "source": [
    "alternative_indexes"
   ]
  },
  {
   "cell_type": "code",
   "execution_count": 47,
   "metadata": {},
   "outputs": [
    {
     "data": {
      "text/plain": [
       "[2, 2, 2, 2, 2, 1, 1, 1, 1, 1, 2, 2, 2, 2, 2, 2, 2, 2, 2, 2]"
      ]
     },
     "execution_count": 47,
     "metadata": {},
     "output_type": "execute_result"
    }
   ],
   "source": [
    "current_state"
   ]
  },
  {
   "cell_type": "code",
   "execution_count": 48,
   "metadata": {},
   "outputs": [
    {
     "data": {
      "text/plain": [
       "[[[-0.33037871203610486, 0.5616591607614806],\n",
       "  [0.33992035886682553, 1.5097951924455333],\n",
       "  [-0.9771459594822111, -1.0401906603482562]],\n",
       " [[-0.3748675341928538, 0.6249683549194608],\n",
       "  [0.5728433434373641, 0.7634753580732092],\n",
       "  [-0.4669636408535885, -0.7795684508310621]]]"
      ]
     },
     "execution_count": 48,
     "metadata": {},
     "output_type": "execute_result"
    }
   ],
   "source": [
    "Q_values"
   ]
  },
  {
   "cell_type": "code",
   "execution_count": 49,
   "metadata": {},
   "outputs": [
    {
     "data": {
      "text/plain": [
       "[2, 0]"
      ]
     },
     "execution_count": 49,
     "metadata": {},
     "output_type": "execute_result"
    }
   ],
   "source": [
    "step(2,state_space,1,P_0_matrix,P_1_matrix(0),reward_matrix((0)))"
   ]
  },
  {
   "cell_type": "code",
   "execution_count": null,
   "metadata": {},
   "outputs": [],
   "source": []
  }
 ],
 "metadata": {
  "kernelspec": {
   "display_name": "Python 3",
   "language": "python",
   "name": "python3"
  },
  "language_info": {
   "codemirror_mode": {
    "name": "ipython",
    "version": 3
   },
   "file_extension": ".py",
   "mimetype": "text/x-python",
   "name": "python",
   "nbconvert_exporter": "python",
   "pygments_lexer": "ipython3",
   "version": "3.8.17"
  }
 },
 "nbformat": 4,
 "nbformat_minor": 2
}
