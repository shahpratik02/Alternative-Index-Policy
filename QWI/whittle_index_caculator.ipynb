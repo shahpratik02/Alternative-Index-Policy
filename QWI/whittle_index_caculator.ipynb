{
 "cells": [
  {
   "cell_type": "code",
   "execution_count": 440,
   "metadata": {},
   "outputs": [],
   "source": [
    "import numpy as np\n",
    "from IPython.display import clear_output\n",
    "\n",
    "import matplotlib.pyplot as plt\n",
    "import time\n",
    "import random\n",
    "from collections import deque\n",
    "from tqdm import tqdm\n",
    "import pandas as pd\n",
    "import copy\n",
    "import collections"
   ]
  },
  {
   "cell_type": "code",
   "execution_count": 441,
   "metadata": {},
   "outputs": [],
   "source": [
    "def P_0_matrix(x):\n",
    "    P_0_matrix=np.array([[1-x,x,0,0,0],\n",
    "                   [1-x,0,x,0,0],\n",
    "                   [1-x,0,0,x,0],\n",
    "                   [1-x,0,0,0,x],\n",
    "                   [1-x,0,0,0,x]])  \n",
    "    return P_0_matrix"
   ]
  },
  {
   "cell_type": "code",
   "execution_count": 442,
   "metadata": {},
   "outputs": [
    {
     "data": {
      "text/plain": [
       "array([[1, 0, 0, 0, 0],\n",
       "       [1, 0, 0, 0, 0],\n",
       "       [1, 0, 0, 0, 0],\n",
       "       [1, 0, 0, 0, 0],\n",
       "       [1, 0, 0, 0, 0]])"
      ]
     },
     "execution_count": 442,
     "metadata": {},
     "output_type": "execute_result"
    }
   ],
   "source": [
    "P_1_matrix=np.array([[1,0,0,0,0],\n",
    "                   [1,0,0,0,0],\n",
    "                   [1,0,0,0,0],\n",
    "                   [1,0,0,0,0],\n",
    "                   [1,0,0,0,0]])\n",
    "P_1_matrix"
   ]
  },
  {
   "cell_type": "code",
   "execution_count": 443,
   "metadata": {},
   "outputs": [],
   "source": [
    "def reward_matrix(x):\n",
    "    reward_matrix=[[x**1,0],[x**2,0],[x**3,0],[x**4,0],[x**5,0]]\n",
    "    return reward_matrix"
   ]
  },
  {
   "cell_type": "code",
   "execution_count": 444,
   "metadata": {},
   "outputs": [],
   "source": [
    "action_space=[0,1]\n",
    "state_space=[0,1,2,3,4]\n"
   ]
  },
  {
   "cell_type": "code",
   "execution_count": 445,
   "metadata": {},
   "outputs": [],
   "source": [
    "def step(state,state_space,action,P_0_matrix,P_1_matrix,reward_matrix):\n",
    "  if(action==1):\n",
    "    new_state=np.random.choice(state_space,replace=True,p=P_1_matrix[state])\n",
    "    reward=reward_matrix[state][1]\n",
    "  else:\n",
    "    new_state=np.random.choice(state_space,replace=True,p=P_0_matrix[state])\n",
    "    reward=reward_matrix[state][0]\n",
    "  return [new_state,reward]"
   ]
  },
  {
   "cell_type": "code",
   "execution_count": 446,
   "metadata": {},
   "outputs": [],
   "source": [
    "temp=[]\n",
    "for i in range(100):\n",
    "    new_state=np.random.choice(state_space,replace=True,p=P_0_matrix(0.4)[4])\n",
    "    temp.append(new_state)"
   ]
  },
  {
   "cell_type": "code",
   "execution_count": 447,
   "metadata": {},
   "outputs": [
    {
     "data": {
      "text/plain": [
       "<BarContainer object of 2 artists>"
      ]
     },
     "execution_count": 447,
     "metadata": {},
     "output_type": "execute_result"
    },
    {
     "data": {
      "image/png": "[encoded data removed]",
      "text/plain": [
       "<Figure size 640x480 with 1 Axes>"
      ]
     },
     "metadata": {},
     "output_type": "display_data"
    }
   ],
   "source": [
    "freq=collections.Counter(temp)\n",
    "names = list(freq.keys())\n",
    "values = list(freq.values())\n",
    "\n",
    "plt.bar(range(len(freq)), values, tick_label=names)"
   ]
  },
  {
   "cell_type": "code",
   "execution_count": 448,
   "metadata": {},
   "outputs": [],
   "source": [
    "N=5\n",
    "M=1\n",
    "epsilon=0.1\n",
    "arm_indexes=[i for i in range(N)]\n"
   ]
  },
  {
   "cell_type": "code",
   "execution_count": 449,
   "metadata": {},
   "outputs": [],
   "source": [
    "def act(Q_values,epsilon,state,arm_index):\n",
    "  decision=np.random.binomial(n=1,p=epsilon,size=1)\n",
    "  if decision==1:\n",
    "    action=random.choice([0,1])\n",
    "  else:\n",
    "    action=np.argmax(Q_values[arm_index][state])\n",
    "  return action"
   ]
  },
  {
   "cell_type": "code",
   "execution_count": 450,
   "metadata": {},
   "outputs": [
    {
     "data": {
      "text/plain": [
       "[0.010240000000000003, 0]"
      ]
     },
     "execution_count": 450,
     "metadata": {},
     "output_type": "execute_result"
    }
   ],
   "source": [
    "reward_matrix(0.4)[4]"
   ]
  },
  {
   "cell_type": "code",
   "execution_count": 451,
   "metadata": {},
   "outputs": [],
   "source": [
    "current_state=[random.choice([0,1,2,3,4]) for _ in range(N)]  \n"
   ]
  },
  {
   "cell_type": "code",
   "execution_count": 452,
   "metadata": {},
   "outputs": [
    {
     "data": {
      "text/plain": [
       "[1, 3, 4, 2, 3]"
      ]
     },
     "execution_count": 452,
     "metadata": {},
     "output_type": "execute_result"
    }
   ],
   "source": [
    "current_state"
   ]
  },
  {
   "cell_type": "code",
   "execution_count": 453,
   "metadata": {},
   "outputs": [],
   "source": [
    "Q1=reward_matrix(0.4)\n",
    "Q2=reward_matrix(0.4)\n",
    "Q3=reward_matrix(0.4)\n",
    "Q4=reward_matrix(0.4)\n",
    "Q5=reward_matrix(0.4)\n",
    "w1=0\n",
    "w2=0\n",
    "w3=0\n",
    "w4=0\n",
    "w5=0"
   ]
  },
  {
   "cell_type": "code",
   "execution_count": 454,
   "metadata": {},
   "outputs": [
    {
     "data": {
      "text/plain": [
       "[[0.4, 0],\n",
       " [0.16000000000000003, 0],\n",
       " [0.06400000000000002, 0],\n",
       " [0.025600000000000005, 0],\n",
       " [0.010240000000000003, 0]]"
      ]
     },
     "execution_count": 454,
     "metadata": {},
     "output_type": "execute_result"
    }
   ],
   "source": [
    "Q5"
   ]
  },
  {
   "cell_type": "code",
   "execution_count": 455,
   "metadata": {},
   "outputs": [],
   "source": [
    "w_overtime=[]"
   ]
  },
  {
   "cell_type": "code",
   "execution_count": 456,
   "metadata": {},
   "outputs": [],
   "source": [
    "rewards=[]\n",
    "subsidies=[]\n",
    "action_sums=[]\n",
    "betas=[]\n",
    "alphas=[]"
   ]
  },
  {
   "cell_type": "code",
   "execution_count": 457,
   "metadata": {},
   "outputs": [
    {
     "data": {
      "text/plain": [
       "[1, 3, 4, 2, 3]"
      ]
     },
     "execution_count": 457,
     "metadata": {},
     "output_type": "execute_result"
    }
   ],
   "source": [
    "current_state"
   ]
  },
  {
   "cell_type": "code",
   "execution_count": 458,
   "metadata": {},
   "outputs": [],
   "source": [
    "for i in range(1,20000001):\n",
    "  action_sum=0\n",
    "  reward_sum=0\n",
    "  T=False\n",
    "  alpha=1/np.ceil(1+i/500)\n",
    "  # if(i<50000):\n",
    "  #   beta=0\n",
    "  # else:\n",
    "  if i%100==0:\n",
    "    beta=1/(1+np.ceil((i)*np.log(i)/500))\n",
    "  else:\n",
    "    beta=0\n",
    "  temp=0\n",
    "  reward=0\n",
    "  new_state=0\n",
    "  epsilon=0.1\n",
    "  whittle_index_arms=[]\n",
    "  for j in range(N):\n",
    "    if current_state[j]==0:\n",
    "      whittle_index_arms.append(w1)\n",
    "    elif current_state[j]==1:\n",
    "      whittle_index_arms.append(w2)\n",
    "    elif current_state[j]==2:\n",
    "      whittle_index_arms.append(w3)\n",
    "    elif current_state[j]==3:\n",
    "      whittle_index_arms.append(w4)\n",
    "    else:\n",
    "      whittle_index_arms.append(w5)\n",
    "      # print(i)\n",
    "      # print('wohooo')\n",
    "\n",
    "  # indices_to_pull=get_indices_to_pull(epsilon,whittle_indexes,arm_indexes,M,current_state)\n",
    "  if random.random()>0.1:\n",
    "    indices_to_pull = sorted(range(len(whittle_index_arms)), key = lambda j: whittle_index_arms[j])[-M:]\n",
    "  else:\n",
    "    indices_to_pull=random.choices(arm_indexes,k=M)\n",
    "  # print(indices_to_pull)\n",
    "  # if(i==50000):\n",
    "  #   print(Q_values)\n",
    "  #   T=True\n",
    "  for index in arm_indexes:\n",
    "      # temp=copy.deepcopy(Q_values)\n",
    "      if index in indices_to_pull:\n",
    "        # print(i)\n",
    "        # print(alpha)\n",
    "        # print(beta)\n",
    "        # action=np.argmax(Q_values[index][current_state[index]])\n",
    "        action=1\n",
    "        # print(current_state)\n",
    "        # print(action)\n",
    "\n",
    "        action_sum+=action\n",
    "        x=step(current_state[index],state_space,action,P_0_matrix(0.4),P_1_matrix,reward_matrix(0.4))\n",
    "        new_state=x[0]\n",
    "        # print(new_state)\n",
    "        reward=x[1]\n",
    "        # print(reward)\n",
    "        Q1[current_state[index]][action]=(1-alpha)*(Q1[current_state[index]][action])+alpha*(reward+max(Q1[new_state])-(np.array(Q1).sum())/10)\n",
    "        Q2[current_state[index]][action]=(1-alpha)*(Q2[current_state[index]][action])+alpha*(reward+max(Q2[new_state])-(np.array(Q2).sum())/10)\n",
    "        Q3[current_state[index]][action]=(1-alpha)*(Q3[current_state[index]][action])+alpha*(reward+max(Q3[new_state])-(np.array(Q3).sum())/10)\n",
    "        Q4[current_state[index]][action]=(1-alpha)*(Q4[current_state[index]][action])+alpha*(reward+max(Q4[new_state])-(np.array(Q4).sum())/10)\n",
    "        Q5[current_state[index]][action]=(1-alpha)*(Q5[current_state[index]][action])+alpha*(reward+max(Q5[new_state])-(np.array(Q5).sum())/10)\n",
    "\n",
    "\n",
    "        \n",
    "        # Q_values=Q_value_update(Q_values,current_state[index],new_state,action,reward,index,whittle_indexes[index][current_state[index]],alpha)\n",
    "        # print(Q_values)\n",
    "        # whittle_indexes[index][current_state[index]]+=beta*temp\n",
    "\n",
    "\n",
    "        # print(whittle_indexes)\n",
    "        # print(\"--\")\n",
    "        current_state[index]=new_state\n",
    "        reward_sum+=reward\n",
    "\n",
    "        #print(x)\n",
    "      else:\n",
    "        # print(i)\n",
    "        # print(alpha)\n",
    "        # print(beta)\n",
    "        # action=np.argmax(Q_values[index][current_state[index]])\n",
    "        action=0\n",
    "        # print(current_state)\n",
    "        # print(action)\n",
    "\n",
    "        action_sum+=action\n",
    "        x=step(current_state[index],state_space,action,P_0_matrix(0.4),P_1_matrix,reward_matrix(0.4))\n",
    "        new_state=x[0]\n",
    "        # print(new_state)\n",
    "        reward=x[1]\n",
    "        # print(reward)\n",
    "        Q1[current_state[index]][action]=(1-alpha)*(Q1[current_state[index]][action])+alpha*(reward+w1+max(Q1[new_state])-(np.array(Q1).sum())/10)\n",
    "        Q2[current_state[index]][action]=(1-alpha)*(Q2[current_state[index]][action])+alpha*(reward+w2+max(Q2[new_state])-(np.array(Q2).sum())/10)\n",
    "        Q3[current_state[index]][action]=(1-alpha)*(Q3[current_state[index]][action])+alpha*(reward+w3+max(Q3[new_state])-(np.array(Q3).sum())/10)\n",
    "        Q4[current_state[index]][action]=(1-alpha)*(Q4[current_state[index]][action])+alpha*(reward+w4+max(Q4[new_state])-(np.array(Q4).sum())/10)\n",
    "        Q5[current_state[index]][action]=(1-alpha)*(Q5[current_state[index]][action])+alpha*(reward+w5+max(Q5[new_state])-(np.array(Q5).sum())/10)\n",
    "\n",
    "        \n",
    "        # print(Q_values)\n",
    "        # whittle_indexes[index][current_state[index]]+=beta*temp\n",
    "\n",
    "        # print(whittle_indexes)\n",
    "        # print(\"--\")\n",
    "        current_state[index]=new_state\n",
    "        reward_sum+=reward\n",
    "\n",
    "        #print(x)\n",
    "  # print(i)\n",
    "  # print(whittle_indexes)\n",
    "  # print(current_state[index])\n",
    "  # print(Q_values[index][current_state[index]][1])\n",
    "  # print(Q_values[index][current_state[index]][0])\n",
    "  # print((Q_values[index][current_state[index]][1]-Q_values[index][current_state[index]][0]))\n",
    "  # print('----')\n",
    "  # whittle_indexes=whittle_indexes_update(whittle_indexes,Q_values,beta,arm_indexes,state_space,T)\n",
    "  # print(w5)\n",
    "  # clear_output()\n",
    "\n",
    "  w1=w1+beta*(Q1[0][1]-Q1[0][0])\n",
    "  w2=w2+beta*(Q2[1][1]-Q2[1][0])\n",
    "  w3=w3+beta*(Q3[2][1]-Q3[2][0])\n",
    "  w4=w4+beta*(Q4[3][1]-Q4[3][0])\n",
    "  w5=w5+beta*(Q5[4][1]-Q5[4][0])\n",
    "  # whittle_indexes_over_time.append(copy.deepcopy(whittle_indexes))\n",
    "  w_overtime.append([w1,w2,w3,w4,w5])\n",
    "  # epsilon=epsilon*gamma\n",
    "  if epsilon<=0.1:\n",
    "    epsilon=0.1\n",
    "  rewards.append(reward_sum)\n",
    "  action_sums.append(action_sum)\n",
    "  betas.append(beta)\n",
    "  alphas.append(alpha)\n",
    "\n",
    "\n",
    "\n",
    "\n",
    "\n",
    "\n"
   ]
  },
  {
   "cell_type": "code",
   "execution_count": 459,
   "metadata": {},
   "outputs": [
    {
     "data": {
      "image/png": "[encoded data removed]",
      "text/plain": [
       "<Figure size 640x480 with 1 Axes>"
      ]
     },
     "metadata": {},
     "output_type": "display_data"
    }
   ],
   "source": [
    "t=10000000\n",
    "j=0\n",
    "state1=[w_overtime[i][0] for i in range(t)]\n",
    "state2=[w_overtime[i][1] for i in range(t)]\n",
    "state3=[w_overtime[i][2] for i in range(t)]\n",
    "state4=[w_overtime[i][3] for i in range(t)]\n",
    "state5=[w_overtime[i][4] for i in range(t)]\n",
    "plt.figure()\n",
    "plt.plot(state1,color='r',label='state 1')\n",
    "plt.plot(state2,color='g',label='state 2')\n",
    "plt.plot(state3,color='b',label='state 3')\n",
    "plt.plot(state4,color='y',label='state 4')\n",
    "plt.plot(state5,color='purple',label='state 5')\n",
    "plt.legend()\n",
    "plt.ylabel('Whittle Index')\n",
    "plt.xlabel('steps')\n",
    "plt.ylim([-2,2])\n",
    "plt.show()"
   ]
  },
  {
   "cell_type": "code",
   "execution_count": 460,
   "metadata": {},
   "outputs": [
    {
     "data": {
      "text/plain": [
       "[[0.9601432824809818, 0.4589089026838124],\n",
       " [0.6667331607017056, 0.4590756963521027],\n",
       " [0.536626705799315, 0.45897406058906554],\n",
       " [0.4207796014135636, 0.4556055749729018],\n",
       " [0.20352317620203828, 0.38345115254074347]]"
      ]
     },
     "execution_count": 460,
     "metadata": {},
     "output_type": "execute_result"
    }
   ],
   "source": [
    "Q5"
   ]
  },
  {
   "cell_type": "code",
   "execution_count": 461,
   "metadata": {},
   "outputs": [
    {
     "data": {
      "text/plain": [
       "[-0.3869027072595997,\n",
       " -0.057195778327215945,\n",
       " 0.08344978990660028,\n",
       " 0.12205520024534984,\n",
       " 0.07763941281618919]"
      ]
     },
     "execution_count": 461,
     "metadata": {},
     "output_type": "execute_result"
    }
   ],
   "source": [
    "w_overtime[1000000-2]"
   ]
  },
  {
   "cell_type": "code",
   "execution_count": 462,
   "metadata": {},
   "outputs": [
    {
     "data": {
      "text/plain": [
       "1.4870972011343577e-06"
      ]
     },
     "execution_count": 462,
     "metadata": {},
     "output_type": "execute_result"
    }
   ],
   "source": [
    "beta"
   ]
  },
  {
   "cell_type": "code",
   "execution_count": 463,
   "metadata": {},
   "outputs": [
    {
     "data": {
      "text/plain": [
       "0.1799279763387052"
      ]
     },
     "execution_count": 463,
     "metadata": {},
     "output_type": "execute_result"
    }
   ],
   "source": [
    "(Q5[4][1]-Q5[4][0])"
   ]
  },
  {
   "cell_type": "code",
   "execution_count": null,
   "metadata": {},
   "outputs": [],
   "source": []
  }
 ],
 "metadata": {
  "kernelspec": {
   "display_name": "Python 3",
   "language": "python",
   "name": "python3"
  },
  "language_info": {
   "codemirror_mode": {
    "name": "ipython",
    "version": 3
   },
   "file_extension": ".py",
   "mimetype": "text/x-python",
   "name": "python",
   "nbconvert_exporter": "python",
   "pygments_lexer": "ipython3",
   "version": "3.8.17"
  }
 },
 "nbformat": 4,
 "nbformat_minor": 2
}
