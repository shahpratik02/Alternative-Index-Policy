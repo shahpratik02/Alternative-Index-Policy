{
 "cells": [
  {
   "cell_type": "code",
   "execution_count": 1,
   "metadata": {},
   "outputs": [],
   "source": [
    "import matplotlib.pyplot as plt\n",
    "import time\n",
    "import random\n",
    "from collections import deque\n",
    "import tensorflow as tf\n",
    "from tqdm import tqdm \n",
    "from tensorflow.keras import Sequential \n",
    "from tensorflow.keras.activations import relu, linear\n",
    "from tensorflow.keras.layers import Dense\n",
    "from tensorflow.keras.optimizers import RMSprop\n",
    "import math\n",
    "from tensorflow.keras.optimizers import Adam\n",
    "from tqdm import trange\n",
    "import pandas as pd\n",
    "from IPython.display import clear_output\n",
    "# from deadlineSchedulingEnv import deadlineSchedulingEnv\n",
    "import concurrent.futures\n",
    "import numpy as np"
   ]
  },
  {
   "cell_type": "code",
   "execution_count": 2,
   "metadata": {},
   "outputs": [],
   "source": [
    "GAMMA = 0.99\n",
    "LEARNING_RATE = 1e-5\n",
    "\n",
    "MEMORY_SIZE = 1000\n",
    "BATCH_SIZE = 32\n",
    "\n",
    "EPSILON_MAX = 1.0\n",
    "EPSILON_MIN = 0.01\n",
    "EXPLORATION_DECAY = 0.999"
   ]
  },
  {
   "cell_type": "code",
   "execution_count": 3,
   "metadata": {},
   "outputs": [],
   "source": [
    "state_dim=1\n",
    "action_dim=2\n",
    "intermediate_dim=16"
   ]
  },
  {
   "cell_type": "code",
   "execution_count": 4,
   "metadata": {},
   "outputs": [],
   "source": [
    "action_space=[0,1]\n",
    "state_space=[i for i in range(1000)]\n",
    "\n",
    "N=2\n",
    "M=1\n",
    "epsilon=1.0\n",
    "subsidy=0.00\n",
    "arm_indexes=[i for i in range(N)]\n",
    "p=0.25\n",
    "q=0.75\n",
    "all_states=[]"
   ]
  },
  {
   "cell_type": "code",
   "execution_count": 5,
   "metadata": {},
   "outputs": [],
   "source": [
    "# def cost_rate(state1,state2,b1=5,b2=1,c1=0.1,c2=0.1):\n",
    "#     return b1*state1+b2*state2+c1*state1**2+c2*state2**2"
   ]
  },
  {
   "cell_type": "code",
   "execution_count": 6,
   "metadata": {},
   "outputs": [],
   "source": [
    "class QModel:\n",
    "    def __init__(self, input_dim, output_dim, lr):\n",
    "        self.input_dim = input_dim\n",
    "        self.output_dim = output_dim\n",
    "        self.lr = lr\n",
    "        self.Qpolicy = self.create()\n",
    "        self.Qtarget = self.create() \n",
    "        self.Qtarget.set_weights(self.Qpolicy.get_weights())\n",
    "        \n",
    "    def create(self):\n",
    "        model = Sequential()\n",
    "        model.add(tf.keras.layers.InputLayer(input_shape=(1,state_dim)))\n",
    "        model.add(Dense(512,activation = 'relu'))\n",
    "        model.add(Dense(256, activation = 'relu'))\n",
    "        model.add(Dense(128, activation = 'relu'))\n",
    "        model.add(Dense(self.output_dim, activation = 'linear'))\n",
    "        # model.compile(optimizer = RMSprop(learning_rate = self.lr, rho = 0.95, epsilon = 1e-7), loss = \"mse\", metrics = ['accuracy'])\n",
    "        model.compile(optimizer =tf.keras.optimizers.legacy.Adam(learning_rate=self.lr), loss = \"mse\", metrics = ['accuracy'])\n",
    "        return model"
   ]
  },
  {
   "cell_type": "code",
   "execution_count": 7,
   "metadata": {},
   "outputs": [],
   "source": [
    "class DQNSolver:\n",
    "    def __init__(self, all_states,state_space,action_space, decay_coe = 0.99, \n",
    "                  memory_size = MEMORY_SIZE,EXPLORATION_DECAY=EXPLORATION_DECAY,LEARNING_RATE=LEARNING_RATE,EPSILON_MAX=EPSILON_MAX,EPSILON_MIN=EPSILON_MIN,BATCH_SIZE=BATCH_SIZE):\n",
    "    \n",
    "        self.all_states=all_states\n",
    "        self.states = state_space\n",
    "        self.n_actions = action_space\n",
    "        \n",
    "        self.actions = [i for i in range(self.n_actions)]\n",
    "        \n",
    "        self.lr = LEARNING_RATE\n",
    "        self.gamma = GAMMA\n",
    "        self.epsilon = EPSILON_MAX\n",
    "        self.decay_coe = decay_coe\n",
    "        self.min_eps = EPSILON_MIN\n",
    "        #self.episodes = episodes\n",
    "        self.batch_size = BATCH_SIZE\n",
    "        self.memory = deque(maxlen = memory_size) # replay memory \n",
    "        \n",
    "        self.terminal_state = False # end of the episode\n",
    "        self.target_counter = 0 \n",
    "        self.exploration_decay=EXPLORATION_DECAY\n",
    "        # Plot data\n",
    "        #self.timestep = self.episodes / 10\n",
    "\n",
    "        \n",
    "        \n",
    "        \n",
    "        self.model = QModel((1,self.states), self.n_actions, self.lr)\n",
    "        # Smooth epsilon \n",
    "        # self.a = 0.35\n",
    "        # self.b = 0.1\n",
    "        # self.c = 0.01\n",
    "        \n",
    "    def state_shape(self,states):\n",
    "        states = np.array(states)\n",
    "        return states.reshape(-1,*states.shape)\n",
    "    def update_target_model(self):\n",
    "        \"\"\"\n",
    "        Updates the current target_q_net with the q_net which brings all the\n",
    "        training in the q_net to the target_q_net.\n",
    "        :return: None\n",
    "        \"\"\"\n",
    "        self.model.Qtarget.set_weights(self.model.Qpolicy.get_weights())\n",
    "    def decrement_epsilon(self):\n",
    "        '''\n",
    "        if self.epsilon > self.min_eps:\n",
    "            self.epsilon *= self.decay_coe\n",
    "        else:\n",
    "            self.epsilon = self.min_eps\n",
    "        '''\n",
    "        # s_time = (time - self.a*self.episodes) / (self.b*self.episodes) \n",
    "        # cosh = np.cosh(math.exp(-s_time))\n",
    "        # self.epsilon = 1 - (1/cosh + (time*self.c/self.episodes))\n",
    "        # if self.epsilon>self.min_eps:\n",
    "        self.epsilon*=self.exploration_decay\n",
    "        if self.epsilon<0.01:\n",
    "            self.epsilon=0.01\n",
    "        # else:\n",
    "        #     self.epsilon=self.min_eps\n",
    "    def forget(self):\n",
    "        self.memory.clear()\n",
    "\n",
    "    def remember(self, s, a, r, s_, done,subsidy):\n",
    "        self.memory.append([self.state_shape(s), a, r, self.state_shape(s_), done,subsidy])\n",
    "        \n",
    "    def act(self, states):\n",
    "        if np.random.random() > (1 - self.epsilon):\n",
    "            action = np.random.choice(self.actions)\n",
    "        else:\n",
    "            states = self.state_shape(states)\n",
    "            states.reshape(1,1,self.states)\n",
    "#             states=[states]\n",
    "#             states=np.array(states)\n",
    "            #print(states.shape)\n",
    "            action = np.argmax(np.array(self.model.Qpolicy.predict_on_batch(states)))\n",
    "            \n",
    "        return action\n",
    "            \n",
    "    def minibatch(self):\n",
    "        return random.sample(self.memory, self.batch_size)\n",
    "    \n",
    "\n",
    "        \n",
    "    def train(self):\n",
    "        # X - states passed to the NN, y - target\n",
    "        \n",
    "        X, y = [], []\n",
    "        \n",
    "        if len(self.memory) >= self.batch_size: \n",
    "            SARS = self.minibatch()\n",
    "        \n",
    "            s = self.state_shape([row[0] for row in SARS])\n",
    "            s=s.reshape(BATCH_SIZE,1,state_dim)\n",
    "            #print(s.shape)\n",
    "            qvalue = np.array(self.model.Qpolicy.predict_on_batch(s))\n",
    "            #print(qvalue)\n",
    "\n",
    "            s_ = self.state_shape([row[3] for row in SARS])\n",
    "            s_=s_.reshape(BATCH_SIZE,1,state_dim)\n",
    "            future_qvalue = np.array(self.model.Qtarget.predict_on_batch(s_))\n",
    "            #print(future_qvalue)\n",
    "\n",
    "            for index, (state, action, reward, state_, done,subsidy) in enumerate(SARS):\n",
    "                if done == True:\n",
    "                    Qtarget = reward +(1-action)*(subsidy)\n",
    "                else:\n",
    "                    Qtarget = reward +(1-action)*(subsidy) + np.max(future_qvalue[index][0])-np.array(self.model.Qpolicy.predict_on_batch((self.state_shape(self.all_states)).reshape(len(self.all_states),1,state_dim))).sum()/(len(self.all_states)*action_dim)\n",
    "            \n",
    "                qcurr = qvalue[index][0]\n",
    "                #print(qcurr)\n",
    "                qcurr[int(action)] = Qtarget \n",
    "                #print(qcurr)\n",
    "                X.append(state)\n",
    "                y.append(qcurr)\n",
    "            X, y = np.array(X).reshape(self.batch_size,1,self.states), np.array(y).reshape(self.batch_size, 1, self.n_actions)\n",
    "            \n",
    "            loss = self.model.Qpolicy.train_on_batch(X, y,return_dict=True)\n",
    "            \n",
    "\n",
    "\n",
    "                \n",
    "  "
   ]
  },
  {
   "cell_type": "code",
   "execution_count": 8,
   "metadata": {},
   "outputs": [],
   "source": [
    "def cost_rate(state1,b1=0.01,c1=0.0):\n",
    "    return b1*state1+c1*state1**2\n"
   ]
  },
  {
   "cell_type": "code",
   "execution_count": 9,
   "metadata": {},
   "outputs": [],
   "source": [
    "# def step(state1,state2,a1,a2,all_states1,all_states2):\n",
    "#     if a1==0 and a2==0:\n",
    "#         probs=[5/21.0,1/21.0,15/21.0]\n",
    "#         new_state1,new_state2=np.random.choice([[state1,state2+1],[state1+1,state2],[state1,state2]],replace=True,p=probs)\n",
    "#     elif a1==1 and a2==0:\n",
    "#         probs=[5/21.0,1/21.0,3/21.0,12/21.0]\n",
    "#         new_state1,new_state2=np.random.choice([[state1,state2+1],[state1+1,state2],[state1-1,state2],[state1,state2]],replace=True,p=probs)\n",
    "#     elif a1==0 and a2==1:\n",
    "#         probs=[5/21.0,1/21.0,12/21.0,3/21.0]\n",
    "#         new_state1,new_state2=np.random.choice([[state1,state2+1],[state1+1,state2],[state1,state2-1],[state1,state2]],replace=True,p=probs)\n",
    "#     else:\n",
    "#         probs=[5/21.0,1/21.0,3/21.0,12/21.0]\n",
    "#         new_state1,new_state2=np.random.choice([[state1,state2+1],[state1+1,state2],[state1-1,state2],[state1,state2-1]],replace=True,p=probs)\n",
    "    \n",
    "#     if new_state1>all_states1[len(all_states1)-1]:\n",
    "#         all_states1.append(new_state1)\n",
    "#     if new_state2>all_states2[len(all_states2)-1]:\n",
    "#         all_states2.append(new_state2)\n",
    "\n",
    "#     time=np.random.exponential(21)\n",
    "#     reward=-cost_rate(state1,state2)*time\n",
    "#     return[new_state1,new_state2,reward]\n"
   ]
  },
  {
   "cell_type": "code",
   "execution_count": 10,
   "metadata": {},
   "outputs": [],
   "source": [
    "def step(state,action,all_states):\n",
    "    \n",
    "    if action==1:\n",
    "        probs=[q*(1-p),(1-p)*(1-q)+p*q,p*(1-q)]\n",
    "        new_state=np.random.choice([state-1,state,state+1],replace=True,p=probs)\n",
    "    else:\n",
    "        probs=[p,1-p]\n",
    "        new_state=np.random.choice([state,state+1],replace=True,p=probs)\n",
    "    time=np.random.exponential(4)\n",
    "    reward=-cost_rate(state)*time\n",
    "    if len(all_states)==0:\n",
    "        all_states.append(new_state)\n",
    "    else:\n",
    "        if new_state>all_states[-1]:\n",
    "            all_states.append(new_state)\n",
    "    if new_state<0:\n",
    "        new_state=0\n",
    "    if new_state>20:\n",
    "        new_state=20\n",
    "    return[new_state,reward]"
   ]
  },
  {
   "cell_type": "code",
   "execution_count": 11,
   "metadata": {},
   "outputs": [],
   "source": [
    "# Q=np.zeros((len(state_space),len(action_space)))"
   ]
  },
  {
   "cell_type": "code",
   "execution_count": 12,
   "metadata": {},
   "outputs": [],
   "source": [
    "\n",
    "\n",
    "# def act(Q_values,epsilon,state):\n",
    "#   if np.random.random()<epsilon:\n",
    "#     action=random.choice([0,1])\n",
    "#   else:\n",
    "#     action=np.argmax(Q_values[state])\n",
    "#   return action"
   ]
  },
  {
   "cell_type": "code",
   "execution_count": 13,
   "metadata": {},
   "outputs": [
    {
     "data": {
      "text/plain": [
       "(1000, 2)"
      ]
     },
     "execution_count": 13,
     "metadata": {},
     "output_type": "execute_result"
    }
   ],
   "source": [
    "alternative_indexes=[0 for _ in range(N)]\n",
    "current_state=[0 for _ in range(N)]\n",
    "nu=np.zeros((len(state_space),len(action_space)))\n",
    "nu.shape"
   ]
  },
  {
   "cell_type": "code",
   "execution_count": 14,
   "metadata": {},
   "outputs": [
    {
     "name": "stderr",
     "output_type": "stream",
     "text": [
      "2024-06-25 17:48:49.953037: I metal_plugin/src/device/metal_device.cc:1154] Metal device set to: Apple M1 Pro\n",
      "2024-06-25 17:48:49.953058: I metal_plugin/src/device/metal_device.cc:296] systemMemory: 16.00 GB\n",
      "2024-06-25 17:48:49.953065: I metal_plugin/src/device/metal_device.cc:313] maxCacheSize: 5.33 GB\n",
      "2024-06-25 17:48:49.953094: I tensorflow/core/common_runtime/pluggable_device/pluggable_device_factory.cc:303] Could not identify NUMA node of platform GPU ID 0, defaulting to 0. Your kernel may not have been built with NUMA support.\n",
      "2024-06-25 17:48:49.953107: I tensorflow/core/common_runtime/pluggable_device/pluggable_device_factory.cc:269] Created TensorFlow device (/job:localhost/replica:0/task:0/device:GPU:0 with 0 MB memory) -> physical PluggableDevice (device: 0, name: METAL, pci bus id: <undefined>)\n"
     ]
    }
   ],
   "source": [
    "dqn_solver=DQNSolver(all_states=state_space,state_space=state_dim,action_space=action_dim)\n"
   ]
  },
  {
   "cell_type": "code",
   "execution_count": 15,
   "metadata": {},
   "outputs": [],
   "source": [
    "rewards=[]\n",
    "subsidies=[]\n",
    "action_sums=[]\n",
    "betas=[]\n",
    "alphas=[]\n",
    "epsilon=1"
   ]
  },
  {
   "cell_type": "code",
   "execution_count": 16,
   "metadata": {},
   "outputs": [],
   "source": [
    "def alpha(i):\n",
    "    return 1/(1+(i/10000))\n",
    "    # return 0.02"
   ]
  },
  {
   "cell_type": "code",
   "execution_count": 17,
   "metadata": {},
   "outputs": [],
   "source": [
    "epsilons=[]\n",
    "threshold=0.1\n",
    "subsidy=0\n",
    "subsidy_last=0\n",
    "subsidy_curr=0\n",
    "all_states=[]"
   ]
  },
  {
   "cell_type": "code",
   "execution_count": 18,
   "metadata": {},
   "outputs": [],
   "source": [
    "# for i in range(Q.shape[0]):\n",
    "#     Q[i][1]=0.00001\n"
   ]
  },
  {
   "cell_type": "code",
   "execution_count": 19,
   "metadata": {},
   "outputs": [
    {
     "name": "stdout",
     "output_type": "stream",
     "text": [
      "24999\n"
     ]
    }
   ],
   "source": [
    "for i in range(1,25000):\n",
    "  # top_M_indices=act(alternative_indexes,N,M,epsilon)\n",
    "  action_sum=0\n",
    "  reward_sum=0\n",
    "  # alpha=1/np.ceil(1+i/1000)\n",
    "  # if(i<50000):\n",
    "  #   beta=0\n",
    "  # else:\n",
    "  print(i)\n",
    "\n",
    "  if i%50==0:\n",
    "    beta=1/(1+np.ceil((i)*np.log(i)/1000))\n",
    "    kappa=1/(1+np.ceil((i**2)/1000))\n",
    "  else:\n",
    "    beta=0\n",
    "    kappa=0\n",
    "  # beta=0.005\n",
    "  for index in arm_indexes:\n",
    "      # action=np.argmax(Q_values[index][current_state[index]])\n",
    "      s=np.reshape(current_state[index],(1,state_dim))\n",
    "      if current_state[index]==0:\n",
    "        action=0\n",
    "      else: \n",
    "        action=dqn_solver.act(s)\n",
    "      # if i%5000==0:\n",
    "      #   action=act(Q,1,current_state[index])\n",
    "      # else:\n",
    "      #   action=act(Q,epsilon,current_state[index])\n",
    "      action_sum+=action\n",
    "      x=step(current_state[index],action,all_states)\n",
    "      # x=step(current_state[index],state_space,action,P_0_matrix,P_1_matrix,reward_matrix)\n",
    "      new_state=x[0]\n",
    "      s_=np.reshape(new_state,(1,state_dim))\n",
    "      reward=x[1]\n",
    "      dqn_solver.remember(s, action, reward, s_, False,subsidy)\n",
    "      dqn_solver.train()\n",
    "      current_state[index]=new_state\n",
    "      reward_sum+=reward\n",
    "      #print(x)\n",
    "  # print(i)\n",
    "  # if i>2000:\n",
    "  #   print(Q[20:30])\n",
    "  dqn_solver.update_target_model()\n",
    "  dqn_solver.decrement_epsilon()\n",
    "  subsidy+=beta*(action_sum-M)/N\n",
    "  # subsidy=subsidy_curr+beta*(action_sum-M)/N+kappa*(subsidy_curr-subsidy_last)\n",
    "  # if i>0:\n",
    "  #   subsidy_last=subsidy_curr\n",
    "  # subsidy_curr=subsidy\n",
    "  subsidies.append(subsidy)\n",
    "  # epsilon=epsilon*gamma\n",
    "\n",
    "  # if epsilon<threshold:\n",
    "  #   epsilon=threshold\n",
    "  # if i%500000==0:\n",
    "  #   threshold=threshold/10\n",
    "  # epsilon=epsilon*0.999\n",
    "  # if epsilon<=0.001:\n",
    "  #   epsilon=0.001\n",
    "  clear_output(wait=True)\n",
    "  rewards.append(reward_sum)\n",
    "  action_sums.append(action_sum)\n",
    "  epsilons.append(epsilon)\n",
    "\n",
    "\n",
    "\n",
    "\n",
    "\n",
    "\n"
   ]
  },
  {
   "cell_type": "code",
   "execution_count": 20,
   "metadata": {},
   "outputs": [
    {
     "data": {
      "text/plain": [
       "[20, 20]"
      ]
     },
     "execution_count": 20,
     "metadata": {},
     "output_type": "execute_result"
    }
   ],
   "source": [
    "current_state"
   ]
  },
  {
   "cell_type": "code",
   "execution_count": 21,
   "metadata": {},
   "outputs": [
    {
     "data": {
      "text/plain": [
       "array([[0., 0.],\n",
       "       [0., 0.],\n",
       "       [0., 0.],\n",
       "       ...,\n",
       "       [0., 0.],\n",
       "       [0., 0.],\n",
       "       [0., 0.]])"
      ]
     },
     "execution_count": 21,
     "metadata": {},
     "output_type": "execute_result"
    }
   ],
   "source": [
    "nu"
   ]
  },
  {
   "cell_type": "code",
   "execution_count": 22,
   "metadata": {},
   "outputs": [
    {
     "data": {
      "text/plain": [
       "[<matplotlib.lines.Line2D at 0xbb6937550>]"
      ]
     },
     "execution_count": 22,
     "metadata": {},
     "output_type": "execute_result"
    },
    {
     "data": {
      "image/png": "[encoded data removed]",
      "text/plain": [
       "<Figure size 640x480 with 1 Axes>"
      ]
     },
     "metadata": {},
     "output_type": "display_data"
    }
   ],
   "source": [
    "plt.plot(rewards)"
   ]
  },
  {
   "cell_type": "code",
   "execution_count": 23,
   "metadata": {},
   "outputs": [
    {
     "data": {
      "text/plain": [
       "[<matplotlib.lines.Line2D at 0xe0997f310>]"
      ]
     },
     "execution_count": 23,
     "metadata": {},
     "output_type": "execute_result"
    },
    {
     "data": {
      "image/png": "[encoded data removed]",
      "text/plain": [
       "<Figure size 640x480 with 1 Axes>"
      ]
     },
     "metadata": {},
     "output_type": "display_data"
    }
   ],
   "source": [
    "plt.plot(action_sums[:100])"
   ]
  },
  {
   "cell_type": "code",
   "execution_count": 24,
   "metadata": {},
   "outputs": [
    {
     "data": {
      "text/plain": [
       "[<matplotlib.lines.Line2D at 0xe0af3c610>]"
      ]
     },
     "execution_count": 24,
     "metadata": {},
     "output_type": "execute_result"
    },
    {
     "data": {
      "image/png": "[encoded data removed]",
      "text/plain": [
       "<Figure size 640x480 with 1 Axes>"
      ]
     },
     "metadata": {},
     "output_type": "display_data"
    }
   ],
   "source": [
    "plt.plot(subsidies)"
   ]
  },
  {
   "cell_type": "code",
   "execution_count": null,
   "metadata": {},
   "outputs": [],
   "source": []
  }
 ],
 "metadata": {
  "kernelspec": {
   "display_name": "Python 3",
   "language": "python",
   "name": "python3"
  },
  "language_info": {
   "codemirror_mode": {
    "name": "ipython",
    "version": 3
   },
   "file_extension": ".py",
   "mimetype": "text/x-python",
   "name": "python",
   "nbconvert_exporter": "python",
   "pygments_lexer": "ipython3",
   "version": "3.8.17"
  }
 },
 "nbformat": 4,
 "nbformat_minor": 2
}
